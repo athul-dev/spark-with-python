{
 "cells": [
  {
   "cell_type": "code",
   "execution_count": 1,
   "metadata": {},
   "outputs": [
    {
     "name": "stdout",
     "output_type": "stream",
     "text": [
      "--Use of Break in While-\n",
      "1\n",
      "2\n",
      "--Use of Continue and Else in While-\n",
      "3\n",
      "4\n",
      "While loop successfully executed\n"
     ]
    }
   ],
   "source": [
    "#Code Snippet 10\n",
    "print(\"--Use of Break in While-\")\n",
    "value = 1\n",
    "while value < 5:\n",
    "  print(value)\n",
    "  if value == 2:\n",
    "    break\n",
    "  value += 1 \n",
    "print(\"--Use of Continue and Else in While-\")\n",
    "i = 0\n",
    "while i < 6:\n",
    "  i += 1\n",
    "  if i in [1,2,5,6]:\n",
    "    continue\n",
    "  print(i)\n",
    "else:\n",
    "    print(\"While loop successfully executed\")"
   ]
  },
  {
   "cell_type": "code",
   "execution_count": null,
   "metadata": {},
   "outputs": [],
   "source": []
  }
 ],
 "metadata": {
  "kernelspec": {
   "display_name": "Python 3",
   "language": "python",
   "name": "python3"
  },
  "language_info": {
   "codemirror_mode": {
    "name": "ipython",
    "version": 3
   },
   "file_extension": ".py",
   "mimetype": "text/x-python",
   "name": "python",
   "nbconvert_exporter": "python",
   "pygments_lexer": "ipython3",
   "version": "3.6.9"
  }
 },
 "nbformat": 4,
 "nbformat_minor": 4
}
