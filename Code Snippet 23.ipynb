{
 "cells": [
  {
   "cell_type": "code",
   "execution_count": 1,
   "metadata": {},
   "outputs": [
    {
     "name": "stdout",
     "output_type": "stream",
     "text": [
      "+------------------+\n",
      "|Mean Revenue Sales|\n",
      "+------------------+\n",
      "| 685.7142857142857|\n",
      "+------------------+\n",
      "\n",
      "Average Revenue Sales value is 685.7142857142857\n",
      "+-----------------+\n",
      "|Formatted Average|\n",
      "+-----------------+\n",
      "|           685.71|\n",
      "+-----------------+\n",
      "\n"
     ]
    }
   ],
   "source": [
    "#Code Snippet 23\n",
    "from pyspark.sql import SparkSession\n",
    "spark = SparkSession.builder.appName(\"SparkInbuiltFunctions\").getOrCreate()\n",
    "from pyspark.sql.functions import mean,avg,format_number #importing the inbuilt functions\n",
    "df = spark.read.csv(\"company_product_revenue.csv\",header=True,inferSchema=True)\n",
    "df.select(mean(\"revenue_sales\").alias(\"Mean Revenue Sales\")).show() #using mean function\n",
    "result_avg = df.select(avg(\"revenue_sales\").alias(\"Average Revenue Sales\")) #using average function\n",
    "print(\"Average Revenue Sales value is {0}\".format(result_avg.head()[0]))\n",
    "result_avg.select(format_number(\"Average revenue Sales\",2).alias(\"Formatted Average\")).show() #formatting number to 2 decimal values"
   ]
  },
  {
   "cell_type": "code",
   "execution_count": null,
   "metadata": {},
   "outputs": [],
   "source": []
  }
 ],
 "metadata": {
  "kernelspec": {
   "display_name": "Python 3",
   "language": "python",
   "name": "python3"
  },
  "language_info": {
   "codemirror_mode": {
    "name": "ipython",
    "version": 3
   },
   "file_extension": ".py",
   "mimetype": "text/x-python",
   "name": "python",
   "nbconvert_exporter": "python",
   "pygments_lexer": "ipython3",
   "version": "3.6.9"
  }
 },
 "nbformat": 4,
 "nbformat_minor": 4
}
