{
 "cells": [
  {
   "cell_type": "code",
   "execution_count": 1,
   "metadata": {},
   "outputs": [
    {
     "name": "stdout",
     "output_type": "stream",
     "text": [
      "Showing the results of the select query\n",
      "+-----------+-------------+---+----------+-----+\n",
      "|employee_id|employee_name|age|  location|hours|\n",
      "+-----------+-------------+---+----------+-----+\n",
      "|       G001|       Pichai| 47|California|   14|\n",
      "|       M002|         Bill| 64|Washington|   10|\n",
      "|       A003|         Jeff| 56|Washington|   11|\n",
      "|       A004|         Cook| 59|California|   12|\n",
      "+-----------+-------------+---+----------+-----+\n",
      "\n",
      "Showing the results after using Where clause in select query\n",
      "+-----------+-------------+---+----------+-----+\n",
      "|employee_id|employee_name|age|  location|hours|\n",
      "+-----------+-------------+---+----------+-----+\n",
      "|       G001|       Pichai| 47|California|   14|\n",
      "|       A004|         Cook| 59|California|   12|\n",
      "+-----------+-------------+---+----------+-----+\n",
      "\n"
     ]
    }
   ],
   "source": [
    "#Code Snippet 20\n",
    "from pyspark.sql import SparkSession\n",
    "spark = SparkSession.builder.appName(\"SparkSQL\").getOrCreate()\n",
    "df = spark.read.csv(\"employee.csv\",header=True,inferSchema=True)\n",
    "df.createOrReplaceTempView(\"associates\") #Creating a view called associates\n",
    "sql_result_1 = spark.sql(\"SELECT * FROM associates\") #Applying SQL query on associates\n",
    "print(\"Showing the results of the select query\")\n",
    "sql_result_1.show()\n",
    "sql_result_2 = spark.sql(\"SELECT * FROM associates WHERE age BETWEEN 45 AND 60 AND location='California'\")\n",
    "print(\"Showing the results after using Where clause in select query\")\n",
    "sql_result_2.show()"
   ]
  },
  {
   "cell_type": "code",
   "execution_count": null,
   "metadata": {},
   "outputs": [],
   "source": []
  }
 ],
 "metadata": {
  "kernelspec": {
   "display_name": "Python 3",
   "language": "python",
   "name": "python3"
  },
  "language_info": {
   "codemirror_mode": {
    "name": "ipython",
    "version": 3
   },
   "file_extension": ".py",
   "mimetype": "text/x-python",
   "name": "python",
   "nbconvert_exporter": "python",
   "pygments_lexer": "ipython3",
   "version": "3.6.9"
  }
 },
 "nbformat": 4,
 "nbformat_minor": 4
}
