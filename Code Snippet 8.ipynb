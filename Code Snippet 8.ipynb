{
 "cells": [
  {
   "cell_type": "code",
   "execution_count": 1,
   "metadata": {},
   "outputs": [
    {
     "name": "stdout",
     "output_type": "stream",
     "text": [
      "{1, 3, 5, 7}\n",
      "{1, 3, 5, 7, 9}\n",
      "{1, 3, 5, 7, 9, 11, 13, 15}\n",
      "{1, 3, 5, 7, 9, 11, 13}\n",
      "7\n"
     ]
    }
   ],
   "source": [
    "#Python Snippet 8\n",
    "myFirstSet = {1,3,5,7}\n",
    "print(myFirstSet)\n",
    "myFirstSet.add(9) #adding a single item\n",
    "print(myFirstSet)\n",
    "myFirstSet.update([11,13,15]) #adding a multiple items\n",
    "print(myFirstSet)\n",
    "myFirstSet.discard(15) #discarding a specific item\n",
    "print(myFirstSet)\n",
    "print(len(myFirstSet)) #returning the length of the set"
   ]
  },
  {
   "cell_type": "code",
   "execution_count": null,
   "metadata": {},
   "outputs": [],
   "source": []
  }
 ],
 "metadata": {
  "kernelspec": {
   "display_name": "Python 3",
   "language": "python",
   "name": "python3"
  },
  "language_info": {
   "codemirror_mode": {
    "name": "ipython",
    "version": 3
   },
   "file_extension": ".py",
   "mimetype": "text/x-python",
   "name": "python",
   "nbconvert_exporter": "python",
   "pygments_lexer": "ipython3",
   "version": "3.6.9"
  }
 },
 "nbformat": 4,
 "nbformat_minor": 4
}
