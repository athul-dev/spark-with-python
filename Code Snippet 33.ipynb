{
 "cells": [
  {
   "cell_type": "code",
   "execution_count": null,
   "metadata": {},
   "outputs": [],
   "source": [
    "#Code Snippet 33\n",
    "#Step 1 - Importing the data and all the necessary libraries\n",
    "from pyspark.sql import SparkSession\n",
    "spark = SparkSession.builder.appName('SparkTreeComparisions').getOrCreate()\n",
    "data = spark.read.format('libsvm').load('libsvm-breast-cancer.txt')\n",
    "print(\"Libsvm format Data - Fully formatted and ready to use data\")\n",
    "data.show(3)\n",
    "#Step 2 - Training our Tree models\n",
    "# Splitting the data into 70 and 30 percent\n",
    "train_data,test_data = data.randomSplit([0.7,0.3])\n",
    "from pyspark.ml.classification import GBTClassifier,DecisionTreeClassifier,RandomForestClassifier\n",
    "gbt = GBTClassifier() #Gradient Boosted Trees\n",
    "rf = RandomForestClassifier(numTrees=150) #Random Forest with 150 Trees\n",
    "dt = DecisionTreeClassifier() #Decision Trees\n",
    "gbt_model = gbt.fit(train_data)\n",
    "rf_model = rf.fit(train_data)\n",
    "dt_model = dt.fit(train_data)\n",
    "\n",
    "gbt_predictions = gbt_model.transform(test_data)\n",
    "rf_predictions = rf_model.transform(test_data)\n",
    "dt_predictions = dt_model.transform(test_data)\n",
    "\n",
    "print(\"Gradient Boosted Tree Predictions\")\n",
    "gbt_predictions.show(3)\n",
    "\n",
    "#Step 3 - Evaluating our Trained Model\n",
    "from pyspark.ml.evaluation import MulticlassClassificationEvaluator\n",
    "mul_eval_obj = MulticlassClassificationEvaluator(metricName='accuracy')\n",
    "\n",
    "print(\"Accuracy of Decision Tree is {}\".format(mul_eval_obj.evaluate(dt_predictions)))\n",
    "print(\"Feature Importances of Decision Tree {}\\n\".format(dt_model.featureImportances))\n",
    "\n",
    "print(\"Accuracy of Random Forest is {}\".format(mul_eval_obj.evaluate(rf_predictions)))\n",
    "print(\"Feature Importances of Decision Tree {}\\n\".format(rf_model.featureImportances))\n",
    "\n",
    "print(\"Accuracy of GBT is {}\".format(mul_eval_obj.evaluate(rf_predictions)))\n",
    "print(\"Feature Importances of GBT {}\\n\".format(rf_model.featureImportances))"
   ]
  }
 ],
 "metadata": {
  "kernelspec": {
   "display_name": "Python 3",
   "language": "python",
   "name": "python3"
  },
  "language_info": {
   "codemirror_mode": {
    "name": "ipython",
    "version": 3
   },
   "file_extension": ".py",
   "mimetype": "text/x-python",
   "name": "python",
   "nbconvert_exporter": "python",
   "pygments_lexer": "ipython3",
   "version": "3.6.9"
  }
 },
 "nbformat": 4,
 "nbformat_minor": 4
}
