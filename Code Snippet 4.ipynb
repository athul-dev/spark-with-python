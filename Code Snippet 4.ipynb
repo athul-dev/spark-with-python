{
 "cells": [
  {
   "cell_type": "code",
   "execution_count": 1,
   "metadata": {},
   "outputs": [
    {
     "name": "stdout",
     "output_type": "stream",
     "text": [
      "<class 'int'>\n",
      "<class 'float'>\n",
      "<class 'str'>\n"
     ]
    }
   ],
   "source": [
    "#Code Snippet 4\n",
    "float_to_integer = int(2.8) #converting float value 2.8 to integer\n",
    "print(type(float_to_integer)) #checking the updated type\n",
    "string_to_float = float(\"4.2\") #converting string value “4.2” to float\n",
    "print(type(string_to_float)) #checking the updated type\n",
    "integer_to_string = str(5) #converting integer value 5 to string\n",
    "print(type(integer_to_string)) #checking the updated type"
   ]
  },
  {
   "cell_type": "code",
   "execution_count": null,
   "metadata": {},
   "outputs": [],
   "source": []
  }
 ],
 "metadata": {
  "kernelspec": {
   "display_name": "Python 3",
   "language": "python",
   "name": "python3"
  },
  "language_info": {
   "codemirror_mode": {
    "name": "ipython",
    "version": 3
   },
   "file_extension": ".py",
   "mimetype": "text/x-python",
   "name": "python",
   "nbconvert_exporter": "python",
   "pygments_lexer": "ipython3",
   "version": "3.6.9"
  }
 },
 "nbformat": 4,
 "nbformat_minor": 4
}
