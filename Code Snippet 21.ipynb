{
 "cells": [
  {
   "cell_type": "code",
   "execution_count": 1,
   "metadata": {},
   "outputs": [
    {
     "name": "stdout",
     "output_type": "stream",
     "text": [
      "+----------+---------+----------+--------+----------+------------+\n",
      "|      date|item_name|item_price|quantity|tax_amount|total_amount|\n",
      "+----------+---------+----------+--------+----------+------------+\n",
      "|11-10-2018|     Beer|     110.5|       2|     53.04|      163.54|\n",
      "|14-02-2018|   Whisky|    1250.0|       1|     300.0|      1550.0|\n",
      "|23-03-2020|   Whisky|    1300.5|       2|    624.24|     1924.74|\n",
      "|05-10-2018|      Rum|     550.0|       2|     264.0|       814.0|\n",
      "+----------+---------+----------+--------+----------+------------+\n",
      "only showing top 4 rows\n",
      "\n",
      "Result after filtering total_amount greater than 1500\n",
      "+----------+---------+----------+--------+----------+------------+\n",
      "|      date|item_name|item_price|quantity|tax_amount|total_amount|\n",
      "+----------+---------+----------+--------+----------+------------+\n",
      "|14-02-2018|   Whisky|    1250.0|       1|     300.0|      1550.0|\n",
      "|23-03-2020|   Whisky|    1300.5|       2|    624.24|     1924.74|\n",
      "+----------+---------+----------+--------+----------+------------+\n",
      "\n",
      "Result after filtering based on item_price and tax_amount\n",
      "+----------+---------+----------+--------+----------+------------+\n",
      "|      date|item_name|item_price|quantity|tax_amount|total_amount|\n",
      "+----------+---------+----------+--------+----------+------------+\n",
      "|23-03-2020|   Whisky|    1300.5|       2|    624.24|     1924.74|\n",
      "+----------+---------+----------+--------+----------+------------+\n",
      "\n",
      "The collected data point's date value is 23-03-2020\n"
     ]
    },
    {
     "data": {
      "text/plain": [
       "{'date': '23-03-2020',\n",
       " 'item_name': 'Whisky',\n",
       " 'item_price': 1300.5,\n",
       " 'quantity': 2,\n",
       " 'tax_amount': 624.24,\n",
       " 'total_amount': 1924.74}"
      ]
     },
     "execution_count": 1,
     "metadata": {},
     "output_type": "execute_result"
    }
   ],
   "source": [
    "#Code Snippet 21\n",
    "from pyspark.sql import SparkSession\n",
    "spark = SparkSession.builder.appName(\"SparkFilters\").getOrCreate()\n",
    "df = spark.read.csv(\"items_bought.csv\",header=True,inferSchema=True)\n",
    "df.show(4)\n",
    "print(\"Result after filtering total_amount greater than 1500\")\n",
    "df.filter(\"total_amount>1500\").show() #filtering based on SQL type syntax\n",
    "print(\"Result after filtering based on item_price and tax_amount\")\n",
    "df.filter((df[\"item_price\"]>1000)&(df[\"tax_amount\"]>500)).show() #filtering based on multiple column conditions\n",
    "result_data = df.filter((df[\"total_amount\"]==1924.74)).collect() #collecting the record based on a condition\n",
    "resulting_date = result_data[0][\"date\"] #fetching data from the collected result\n",
    "print(\"The collected data point's date value is \"+resulting_date)\n",
    "result_data[0].asDict() #converting the result to a dictionary"
   ]
  },
  {
   "cell_type": "code",
   "execution_count": null,
   "metadata": {},
   "outputs": [],
   "source": []
  }
 ],
 "metadata": {
  "kernelspec": {
   "display_name": "Python 3",
   "language": "python",
   "name": "python3"
  },
  "language_info": {
   "codemirror_mode": {
    "name": "ipython",
    "version": 3
   },
   "file_extension": ".py",
   "mimetype": "text/x-python",
   "name": "python",
   "nbconvert_exporter": "python",
   "pygments_lexer": "ipython3",
   "version": "3.6.9"
  }
 },
 "nbformat": 4,
 "nbformat_minor": 4
}
