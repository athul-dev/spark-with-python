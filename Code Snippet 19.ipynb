{
 "cells": [
  {
   "cell_type": "code",
   "execution_count": 4,
   "metadata": {},
   "outputs": [
    {
     "name": "stdout",
     "output_type": "stream",
     "text": [
      "+-----------+-------------+---+----------+-----+\n",
      "|employee_id|employee_name|age|  location|hours|\n",
      "+-----------+-------------+---+----------+-----+\n",
      "|       G001|       Pichai| 47|California|   14|\n",
      "|       M002|         Bill| 64|Washington|   10|\n",
      "|       A003|         Jeff| 56|Washington|   11|\n",
      "|       A004|         Cook| 59|California|   12|\n",
      "+-----------+-------------+---+----------+-----+\n",
      "\n",
      "Single Column Data\n",
      "+---+\n",
      "|age|\n",
      "+---+\n",
      "| 47|\n",
      "| 64|\n",
      "| 56|\n",
      "| 59|\n",
      "+---+\n",
      "\n",
      "Multiple Column Data\n",
      "+-------------+---+\n",
      "|employee_name|age|\n",
      "+-------------+---+\n",
      "|       Pichai| 47|\n",
      "|         Bill| 64|\n",
      "|         Jeff| 56|\n",
      "|         Cook| 59|\n",
      "+-------------+---+\n",
      "\n",
      "Data with the new column productive_hours, hours Column Renamed to working_hours and dropped the location column\n",
      "+-----------+-------------+---+-------------+----------------+\n",
      "|employee_id|employee_name|age|working_hours|productive_hours|\n",
      "+-----------+-------------+---+-------------+----------------+\n",
      "|       G001|       Pichai| 47|           14|              11|\n",
      "|       M002|         Bill| 64|           10|               7|\n",
      "|       A003|         Jeff| 56|           11|               8|\n",
      "|       A004|         Cook| 59|           12|               9|\n",
      "+-----------+-------------+---+-------------+----------------+\n",
      "\n",
      "First three Data points\n",
      "\n",
      "[Row(employee_id='G001', employee_name='Pichai', age=47, working_hours=14, productive_hours=11), Row(employee_id='M002', employee_name='Bill', age=64, working_hours=10, productive_hours=7), Row(employee_id='A003', employee_name='Jeff', age=56, working_hours=11, productive_hours=8)]\n",
      "\n",
      "Summary of Age, Working hours and Productive hours\n",
      "+-------+----------------+-----------------+-----------------+\n",
      "|summary|             age|    working_hours| productive_hours|\n",
      "+-------+----------------+-----------------+-----------------+\n",
      "|  count|               4|                4|                4|\n",
      "|   mean|            56.5|            11.75|             8.75|\n",
      "| stddev|7.14142842854285|1.707825127659933|1.707825127659933|\n",
      "|    min|              47|               10|                7|\n",
      "|    max|              64|               14|               11|\n",
      "+-------+----------------+-----------------+-----------------+\n",
      "\n"
     ]
    }
   ],
   "source": [
    "#Code Snippet 19\n",
    "from pyspark.sql import SparkSession #importing SparkSession\n",
    "spark = SparkSession.builder.appName(\"Rows&Columns\").getOrCreate() #creating a Spark Session\n",
    "df = spark.read.csv(\"employee.csv\",header=True,inferSchema=True) #reading csv data\n",
    "df.show() #displaying the data\n",
    "df[\"age\"] #accessing the column object age via dataframe\n",
    "print(\"Single Column Data\")\n",
    "df.select(\"age\").show() #accessing single column using select, returns a dataframe\n",
    "print(\"Multiple Column Data\")\n",
    "df.select([\"employee_name\",\"age\"]).show() #accessing multiple column using select, returns a dataframe\n",
    "df_new = df.withColumn(\"productive_hours\",df[\"hours\"]-3) #Adding a new column from existing one with some operation\n",
    "df_renamed = df_new.withColumnRenamed(\"hours\",\"working_hours\") #Renamed hours to working_hours\n",
    "df_final = df_renamed.drop(\"location\") #dropping the column location\n",
    "print(\"Data with the new column productive_hours, hours Column Renamed to working_hours and dropped the location column\")\n",
    "df_final.show()\n",
    "print(\"First three Data points\\n\")\n",
    "print(df_final.head(3)) #Fetching the list of the first 3 values in the dataframe\n",
    "print(\"\\nSummary of Age, Working hours and Productive hours\")\n",
    "summary_data = df_final.select([\"age\",\"working_hours\",\"productive_hours\"])\n",
    "summary_data.describe().show()"
   ]
  },
  {
   "cell_type": "code",
   "execution_count": null,
   "metadata": {},
   "outputs": [],
   "source": []
  }
 ],
 "metadata": {
  "kernelspec": {
   "display_name": "Python 3",
   "language": "python",
   "name": "python3"
  },
  "language_info": {
   "codemirror_mode": {
    "name": "ipython",
    "version": 3
   },
   "file_extension": ".py",
   "mimetype": "text/x-python",
   "name": "python",
   "nbconvert_exporter": "python",
   "pygments_lexer": "ipython3",
   "version": "3.6.9"
  }
 },
 "nbformat": 4,
 "nbformat_minor": 4
}
