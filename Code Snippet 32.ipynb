{
 "cells": [
  {
   "cell_type": "code",
   "execution_count": 4,
   "metadata": {},
   "outputs": [
    {
     "name": "stdout",
     "output_type": "stream",
     "text": [
      "Initial Data\n",
      "+----------+--------+------------+---------------+-----+\n",
      "|horsepower|peak-rpm|city-mileage|highway-mileage|price|\n",
      "+----------+--------+------------+---------------+-----+\n",
      "|       111|    5000|          21|             27|13495|\n",
      "|       111|    5000|          21|             27|16500|\n",
      "|       154|    5000|          19|             26|16500|\n",
      "+----------+--------+------------+---------------+-----+\n",
      "only showing top 3 rows\n",
      "\n",
      "Consolidated Data with features and labels\n",
      "+--------------------+-----+\n",
      "|            features|price|\n",
      "+--------------------+-----+\n",
      "|[111.0,5000.0,21....|13495|\n",
      "|[111.0,5000.0,21....|16500|\n",
      "|[154.0,5000.0,19....|16500|\n",
      "+--------------------+-----+\n",
      "only showing top 3 rows\n",
      "\n",
      "The R Square value is 0.8613056895771833\n",
      "\n",
      "Detemining which feature played a major role in Decision Making\n",
      "(4,[0,1,2,3],[0.38295168531302315,0.0618069348638923,0.25407192370453,0.3011694561185545])\n"
     ]
    }
   ],
   "source": [
    "#Code Snippet 32\n",
    "#Step 1 - Importing the data and essential libraries \n",
    "from pyspark.sql import SparkSession\n",
    "spark = SparkSession.builder.appName('SparkRFRegression').getOrCreate()\n",
    "data = spark.read.csv('car-performance-price.csv',header=True,inferSchema=True)\n",
    "print(\"Initial Data\")\n",
    "data.show(3)\n",
    "#Step 2 - Data pre-processing and converting data to spark accepted format\n",
    "data = data.na.drop()\n",
    "from pyspark.ml.feature import VectorAssembler\n",
    "assembler = VectorAssembler(inputCols=['horsepower','peak-rpm','city-mileage','highway-mileage'],outputCol='features')\n",
    "assembler_data = assembler.transform(data)\n",
    "final_data = assembler_data.select('features','price')\n",
    "print(\"Consolidated Data with features and labels\")\n",
    "final_data.show(3)\n",
    "#Step 3 - Training our Decision model \n",
    "# Splliting the data into 80 and 20 percent\n",
    "train_data,test_data=final_data.randomSplit([0.8,0.2])\n",
    "from pyspark.ml.regression import RandomForestRegressor\n",
    "rf = RandomForestRegressor(labelCol='price',featuresCol='features',numTrees=120)\n",
    "rf_model = rf.fit(train_data)\n",
    "rf_predictions = rf_model.transform(test_data)\n",
    "#Step 4 - Evaluating our Trained Model\n",
    "from pyspark.ml.evaluation import RegressionEvaluator\n",
    "regression_evaluator_r2 = RegressionEvaluator(predictionCol='prediction',labelCol='price',metricName=\"r2\")\n",
    "R2 = regression_evaluator_r2.evaluate(rf_predictions)\n",
    "print(\"The R Square value is {}\".format(R2))\n",
    "print(\"\\nDetemining which feature played a major role in Decision Making\")\n",
    "print(rf_model.featureImportances)"
   ]
  },
  {
   "cell_type": "code",
   "execution_count": null,
   "metadata": {},
   "outputs": [],
   "source": []
  }
 ],
 "metadata": {
  "kernelspec": {
   "display_name": "Python 3",
   "language": "python",
   "name": "python3"
  },
  "language_info": {
   "codemirror_mode": {
    "name": "ipython",
    "version": 3
   },
   "file_extension": ".py",
   "mimetype": "text/x-python",
   "name": "python",
   "nbconvert_exporter": "python",
   "pygments_lexer": "ipython3",
   "version": "3.6.9"
  }
 },
 "nbformat": 4,
 "nbformat_minor": 4
}
