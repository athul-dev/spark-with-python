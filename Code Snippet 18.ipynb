{
 "cells": [
  {
   "cell_type": "code",
   "execution_count": 1,
   "metadata": {},
   "outputs": [
    {
     "name": "stdout",
     "output_type": "stream",
     "text": [
      "+-----------+-------------+---+----------+-----+\n",
      "|employee_id|employee_name|age|  location|hours|\n",
      "+-----------+-------------+---+----------+-----+\n",
      "|       G001|       Pichai| 47|California|   14|\n",
      "|       M002|         Bill| 64|Washington|   10|\n",
      "|       A003|         Jeff| 56|Washington|   11|\n",
      "|       A004|         Cook| 59|California|   12|\n",
      "+-----------+-------------+---+----------+-----+\n",
      "\n",
      "root\n",
      " |-- employee_id: string (nullable = true)\n",
      " |-- employee_name: string (nullable = true)\n",
      " |-- age: string (nullable = true)\n",
      " |-- location: string (nullable = true)\n",
      " |-- hours: string (nullable = true)\n",
      "\n",
      "root\n",
      " |-- employee_id: string (nullable = true)\n",
      " |-- employee_name: string (nullable = true)\n",
      " |-- age: integer (nullable = true)\n",
      " |-- location: string (nullable = true)\n",
      " |-- hours: integer (nullable = true)\n",
      "\n"
     ]
    },
    {
     "data": {
      "text/plain": [
       "['employee_id', 'employee_name', 'age', 'location', 'hours']"
      ]
     },
     "execution_count": 1,
     "metadata": {},
     "output_type": "execute_result"
    }
   ],
   "source": [
    "#Code Snippet 18\n",
    "from pyspark.sql import SparkSession #importing SparkSession\n",
    "spark = SparkSession.builder.appName(\"MyFirstSparkSession\").getOrCreate() #creating a Spark Session\n",
    "df = spark.read.csv(\"employee.csv\",header=True) #reading the data without inferSchema parameter\n",
    "df.show() #displaying the dataframe data\n",
    "df.printSchema() #printing the schema of the datatype without inferSchema\n",
    "df = spark.read.csv(\"employee.csv\",header=True,inferSchema=True) #reading the data with inferSchema parameter\n",
    "df.printSchema() #printing the schema of the datatype with inferSchema\n",
    "df.columns #getting the list of columns "
   ]
  },
  {
   "cell_type": "code",
   "execution_count": null,
   "metadata": {},
   "outputs": [],
   "source": []
  }
 ],
 "metadata": {
  "kernelspec": {
   "display_name": "Python 3",
   "language": "python",
   "name": "python3"
  },
  "language_info": {
   "codemirror_mode": {
    "name": "ipython",
    "version": 3
   },
   "file_extension": ".py",
   "mimetype": "text/x-python",
   "name": "python",
   "nbconvert_exporter": "python",
   "pygments_lexer": "ipython3",
   "version": "3.6.9"
  }
 },
 "nbformat": 4,
 "nbformat_minor": 4
}
