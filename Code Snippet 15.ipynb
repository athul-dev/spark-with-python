{
 "cells": [
  {
   "cell_type": "code",
   "execution_count": 1,
   "metadata": {},
   "outputs": [
    {
     "name": "stdout",
     "output_type": "stream",
     "text": [
      "[1, 3, 5, 9, 11, 23, 45, 77]\n",
      "[0, 0, 2, 6, 34, 50]\n"
     ]
    }
   ],
   "source": [
    "#Code Snippet 15\n",
    "numbers = [0,0,1,2,3,5,6,9,11,23,34,45,50,77]\n",
    "#obtaining the odd numbers from the numbers list\n",
    "odd_numbers = filter(lambda x: x % 2, numbers)\n",
    "print(list(odd_numbers))\n",
    "#obtaining the even numbers from the numbers list\n",
    "even_numbers = filter(lambda x: x % 2 == 0, numbers)\n",
    "print(list(even_numbers))"
   ]
  },
  {
   "cell_type": "code",
   "execution_count": null,
   "metadata": {},
   "outputs": [],
   "source": []
  }
 ],
 "metadata": {
  "kernelspec": {
   "display_name": "Python 3",
   "language": "python",
   "name": "python3"
  },
  "language_info": {
   "codemirror_mode": {
    "name": "ipython",
    "version": 3
   },
   "file_extension": ".py",
   "mimetype": "text/x-python",
   "name": "python",
   "nbconvert_exporter": "python",
   "pygments_lexer": "ipython3",
   "version": "3.6.9"
  }
 },
 "nbformat": 4,
 "nbformat_minor": 4
}
