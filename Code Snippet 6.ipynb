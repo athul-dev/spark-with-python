{
 "cells": [
  {
   "cell_type": "code",
   "execution_count": 1,
   "metadata": {},
   "outputs": [
    {
     "name": "stdout",
     "output_type": "stream",
     "text": [
      "{'Google': 'Chrome', 'Mozilla': 'Firefox'}\n",
      "Chrome\n",
      "Chrome\n",
      "{'Google': 'Chrome', 'Mozilla': 'Firefox Beta'}\n",
      "{'Google': 'Chrome', 'Mozilla': 'Firefox Beta', 'Microsoft': 'Explorer'}\n",
      "{'Google': 'Chrome', 'Microsoft': 'Explorer'}\n",
      "Chrome\n",
      "Explorer\n",
      "Google Chrome\n",
      "Microsoft Explorer\n"
     ]
    }
   ],
   "source": [
    "#Code Snippet 6\n",
    "myFirstDictionary = {\"Google\":\"Chrome\", \"Mozilla\":\"Firefox\"}\n",
    "print(myFirstDictionary)\n",
    "value_from_reference = myFirstDictionary[\"Google\"]\n",
    "print(value_from_reference)\n",
    "value_from_get = myFirstDictionary.get(\"Google\")\n",
    "print(value_from_get)\n",
    "myFirstDictionary[\"Mozilla\"] = \"Firefox Beta\"\n",
    "print(myFirstDictionary)\n",
    "myFirstDictionary[\"Microsoft\"] = \"Explorer\"\n",
    "print(myFirstDictionary)\n",
    "myFirstDictionary.pop(\"Mozilla\")\n",
    "print(myFirstDictionary)\n",
    "for x in myFirstDictionary.values(): #iterating dictionary using its values\n",
    "  print(x) \n",
    "for x, y in myFirstDictionary.items(): #iterating dictionary using keys & values\n",
    "  print(x, y)"
   ]
  },
  {
   "cell_type": "code",
   "execution_count": null,
   "metadata": {},
   "outputs": [],
   "source": []
  }
 ],
 "metadata": {
  "kernelspec": {
   "display_name": "Python 3",
   "language": "python",
   "name": "python3"
  },
  "language_info": {
   "codemirror_mode": {
    "name": "ipython",
    "version": 3
   },
   "file_extension": ".py",
   "mimetype": "text/x-python",
   "name": "python",
   "nbconvert_exporter": "python",
   "pygments_lexer": "ipython3",
   "version": "3.6.9"
  }
 },
 "nbformat": 4,
 "nbformat_minor": 4
}
