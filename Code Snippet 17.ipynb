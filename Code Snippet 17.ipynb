{
 "cells": [
  {
   "cell_type": "code",
   "execution_count": 1,
   "metadata": {},
   "outputs": [
    {
     "name": "stdout",
     "output_type": "stream",
     "text": [
      "[0, 1, 4, 9, 16]\n",
      "Squares using List Comprehensions - [0, 1, 4, 9, 16]\n"
     ]
    }
   ],
   "source": [
    "#Python Snippet 17\n",
    "#Get the squares of elements in a list\n",
    "#using the typical method\n",
    "squares = []\n",
    "for sq in range(5):\n",
    "    squares.append(sq**2)\n",
    "print(squares)\n",
    "\n",
    "#using the List comprehensions\n",
    "print(\"Squares using List Comprehensions - {}\".format([sq**2 for sq in range(5)]))"
   ]
  },
  {
   "cell_type": "code",
   "execution_count": null,
   "metadata": {},
   "outputs": [],
   "source": []
  }
 ],
 "metadata": {
  "kernelspec": {
   "display_name": "Python 3",
   "language": "python",
   "name": "python3"
  },
  "language_info": {
   "codemirror_mode": {
    "name": "ipython",
    "version": 3
   },
   "file_extension": ".py",
   "mimetype": "text/x-python",
   "name": "python",
   "nbconvert_exporter": "python",
   "pygments_lexer": "ipython3",
   "version": "3.6.9"
  }
 },
 "nbformat": 4,
 "nbformat_minor": 4
}
