{
 "cells": [
  {
   "cell_type": "code",
   "execution_count": 20,
   "metadata": {},
   "outputs": [
    {
     "name": "stdout",
     "output_type": "stream",
     "text": [
      "5\n",
      "<class 'int'>\n",
      "7.5\n",
      "<class 'float'>\n"
     ]
    }
   ],
   "source": [
    "#Code Snippet 1\n",
    "import random #importing the library random to generate random number\n",
    "x = random.randrange(1,10) #generating random number in between 1 to 10\n",
    "print(x) #printing the generated value\n",
    "print(type(x)) #printing the type of the generated value\n",
    "y = x + 2.5 #adding the generated value and decimal value \n",
    "print(y) #printing the sum value\n",
    "print(type(y)) #printing the type of the sum value"
   ]
  },
  {
   "cell_type": "code",
   "execution_count": null,
   "metadata": {},
   "outputs": [],
   "source": []
  }
 ],
 "metadata": {
  "kernelspec": {
   "display_name": "Python 3",
   "language": "python",
   "name": "python3"
  },
  "language_info": {
   "codemirror_mode": {
    "name": "ipython",
    "version": 3
   },
   "file_extension": ".py",
   "mimetype": "text/x-python",
   "name": "python",
   "nbconvert_exporter": "python",
   "pygments_lexer": "ipython3",
   "version": "3.6.9"
  }
 },
 "nbformat": 4,
 "nbformat_minor": 4
}
