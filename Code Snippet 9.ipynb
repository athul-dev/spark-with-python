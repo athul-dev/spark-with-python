{
 "cells": [
  {
   "cell_type": "code",
   "execution_count": 1,
   "metadata": {},
   "outputs": [
    {
     "name": "stdout",
     "output_type": "stream",
     "text": [
      "Simple if Executed\n",
      "else block in if-else Executed\n",
      "first elif Executed\n",
      "I am in the first if\n",
      "I am in the second if\n",
      "Am I nested?, Oh Yes I am!\n"
     ]
    }
   ],
   "source": [
    "#Code Snippet 9\n",
    "x = 50\n",
    "y = 70\n",
    "if x < y:  #Simple if \n",
    "    print(\"Simple if Executed\")\n",
    "if x > y: #if else \n",
    "    print(\"if block in if-else Not Executed\")\n",
    "else:\n",
    "    print(\"else block in if-else Executed\")\n",
    "if x > y: #elif ladder\n",
    "    print(\"if block in elif Not Executed\")\n",
    "elif x > 20 and y==70:\n",
    "    print(\"first elif Executed\")\n",
    "elif x == 50 and y >50:\n",
    "    print(\"second elif is Not reached\")\n",
    "else:\n",
    "    print(\"if no elif condition true then Executed\")\n",
    "if y > x: #nested if\n",
    "    print(\"I am in the first if\")\n",
    "    if x!= 70 and (y+10)==80:\n",
    "        print(\"I am in the second if\")\n",
    "        if (x+y) == 120:\n",
    "            print(\"Am I nested?, Oh Yes I am!\")\n",
    "        else:\n",
    "            print(\"Nested if-else\")\n",
    "    else:\n",
    "        print(\"Where am I?\")\n",
    "else:\n",
    "    print(\"I am not here\")\n"
   ]
  },
  {
   "cell_type": "code",
   "execution_count": null,
   "metadata": {},
   "outputs": [],
   "source": []
  }
 ],
 "metadata": {
  "kernelspec": {
   "display_name": "Python 3",
   "language": "python",
   "name": "python3"
  },
  "language_info": {
   "codemirror_mode": {
    "name": "ipython",
    "version": 3
   },
   "file_extension": ".py",
   "mimetype": "text/x-python",
   "name": "python",
   "nbconvert_exporter": "python",
   "pygments_lexer": "ipython3",
   "version": "3.6.9"
  }
 },
 "nbformat": 4,
 "nbformat_minor": 4
}
