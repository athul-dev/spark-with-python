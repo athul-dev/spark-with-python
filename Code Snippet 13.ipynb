{
 "cells": [
  {
   "cell_type": "code",
   "execution_count": 1,
   "metadata": {},
   "outputs": [
    {
     "name": "stdout",
     "output_type": "stream",
     "text": [
      "35\n",
      "7\n"
     ]
    }
   ],
   "source": [
    "#Code Snippet 13\n",
    "#Simple Lambda Function\n",
    "multiply = lambda a, b : a * b\n",
    "print(multiply(5, 7)) \n",
    "#Lambda Function within a normal function\n",
    "def myAdditionFunctionWithLambda(add):\n",
    "    return lambda val: val+add\n",
    "square_result=myAdditionFunctionWithLambda(2)\n",
    "print(square_result(5))"
   ]
  },
  {
   "cell_type": "code",
   "execution_count": null,
   "metadata": {},
   "outputs": [],
   "source": []
  }
 ],
 "metadata": {
  "kernelspec": {
   "display_name": "Python 3",
   "language": "python",
   "name": "python3"
  },
  "language_info": {
   "codemirror_mode": {
    "name": "ipython",
    "version": 3
   },
   "file_extension": ".py",
   "mimetype": "text/x-python",
   "name": "python",
   "nbconvert_exporter": "python",
   "pygments_lexer": "ipython3",
   "version": "3.6.9"
  }
 },
 "nbformat": 4,
 "nbformat_minor": 4
}
