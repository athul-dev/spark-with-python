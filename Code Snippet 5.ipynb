{
 "cells": [
  {
   "cell_type": "code",
   "execution_count": 1,
   "metadata": {},
   "outputs": [
    {
     "name": "stdout",
     "output_type": "stream",
     "text": [
      "[1, 5.5, 'Apache', ['Spark', 7]]\n",
      "[1, 7.5, 'Apache', ['Spark', 7]]\n",
      "[1, 7.5, 'Apache', ['Spark', 7], 'Appended To Our List']\n",
      "[1, 'I like to skip the queue', 7.5, 'Apache', ['Spark', 7], 'Appended To Our List']\n",
      "6\n",
      "['I like to skip the queue', 7.5, 'Apache', ['Spark', 7], 'Appended To Our List']\n",
      "5\n",
      "['I like to skip the queue', 'Apache', ['Spark', 7], 'Appended To Our List']\n",
      "Spark\n",
      "I like to skip the queue\n",
      "Apache\n",
      "['Spark', 7]\n",
      "Appended To Our List\n"
     ]
    }
   ],
   "source": [
    "#Code Snippet 5\n",
    "ourFirstList = [1,5.5,\"Apache\",[\"Spark\",7]]\n",
    "print(ourFirstList)\n",
    "ourFirstList[1] = ourFirstList[1]+2\n",
    "print(ourFirstList)\n",
    "ourFirstList.append(\"Appended To Our List\")\n",
    "print(ourFirstList)\n",
    "ourFirstList.insert(1,\"I like to skip the queue\")\n",
    "print(ourFirstList)\n",
    "print(len(ourFirstList)) #printing the length of the current list\n",
    "ourFirstList.remove(1) #this removes the item 1 and not the item in index 1\n",
    "print(ourFirstList)\n",
    "print(len(ourFirstList)) #printing the length of the current list\n",
    "ourFirstList.pop(1) #this removes the item at index 1 which is 7.5\n",
    "print(ourFirstList)\n",
    "print(ourFirstList[2][0]) #accessing the list value which is within our list\n",
    "for x in ourFirstList:\n",
    "    print(x) #traversing through our list"
   ]
  },
  {
   "cell_type": "code",
   "execution_count": null,
   "metadata": {},
   "outputs": [],
   "source": []
  }
 ],
 "metadata": {
  "kernelspec": {
   "display_name": "Python 3",
   "language": "python",
   "name": "python3"
  },
  "language_info": {
   "codemirror_mode": {
    "name": "ipython",
    "version": 3
   },
   "file_extension": ".py",
   "mimetype": "text/x-python",
   "name": "python",
   "nbconvert_exporter": "python",
   "pygments_lexer": "ipython3",
   "version": "3.6.9"
  }
 },
 "nbformat": 4,
 "nbformat_minor": 4
}
