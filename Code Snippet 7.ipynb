{
 "cells": [
  {
   "cell_type": "code",
   "execution_count": 1,
   "metadata": {},
   "outputs": [
    {
     "name": "stdout",
     "output_type": "stream",
     "text": [
      "('Apache', 'Spark', 'Hadoop', 'ML')\n",
      "Spark\n",
      "('Apache', 'Spark', 'Hadoop', 'ML', 'Spark')\n",
      "5\n",
      "3\n",
      "2\n"
     ]
    }
   ],
   "source": [
    "#Code Snippet 7\n",
    "myFirstTuple = (\"Apache\",\"Spark\",\"Hadoop\",\"ML\")\n",
    "print(myFirstTuple)\n",
    "print(myFirstTuple[1])\n",
    "#Adding a value to the tuple using list\n",
    "temporary_list = list(myFirstTuple)\n",
    "temporary_list.append(\"Spark\")\n",
    "modified_tuple = tuple(temporary_list)\n",
    "print(modified_tuple)\n",
    "print(len(modified_tuple)) #returns the number of elements in the tuple\n",
    "print(modified_tuple.index(\"ML\")) #returns the index of ML in the tuple\n",
    "print(modified_tuple.count(\"Spark\")) #returns the number of times the element Spark is present in the tuple"
   ]
  },
  {
   "cell_type": "code",
   "execution_count": null,
   "metadata": {},
   "outputs": [],
   "source": []
  }
 ],
 "metadata": {
  "kernelspec": {
   "display_name": "Python 3",
   "language": "python",
   "name": "python3"
  },
  "language_info": {
   "codemirror_mode": {
    "name": "ipython",
    "version": 3
   },
   "file_extension": ".py",
   "mimetype": "text/x-python",
   "name": "python",
   "nbconvert_exporter": "python",
   "pygments_lexer": "ipython3",
   "version": "3.6.9"
  }
 },
 "nbformat": 4,
 "nbformat_minor": 4
}
