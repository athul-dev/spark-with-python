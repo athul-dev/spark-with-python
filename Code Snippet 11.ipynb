{
 "cells": [
  {
   "cell_type": "code",
   "execution_count": 1,
   "metadata": {},
   "outputs": [
    {
     "name": "stdout",
     "output_type": "stream",
     "text": [
      "---\n",
      "[5]\n",
      "---\n",
      "[5, 7]\n",
      "---\n",
      "[5, 7, 9]\n",
      "---\n",
      "[5, 7, 9, 11]\n",
      "---\n",
      "[5, 7, 9, 11, 13]\n"
     ]
    }
   ],
   "source": [
    "#Code Snippet 11\n",
    "out=[]\n",
    "for me in range(5,15,2): #using the range function\n",
    "    out.append(me)\n",
    "    print(\"---\")\n",
    "    for values in out: #nesting the for loop\n",
    "        pass #Will do nothing \n",
    "    else:\n",
    "        print(out) #Will execute always after the for loop"
   ]
  },
  {
   "cell_type": "code",
   "execution_count": null,
   "metadata": {},
   "outputs": [],
   "source": []
  }
 ],
 "metadata": {
  "kernelspec": {
   "display_name": "Python 3",
   "language": "python",
   "name": "python3"
  },
  "language_info": {
   "codemirror_mode": {
    "name": "ipython",
    "version": 3
   },
   "file_extension": ".py",
   "mimetype": "text/x-python",
   "name": "python",
   "nbconvert_exporter": "python",
   "pygments_lexer": "ipython3",
   "version": "3.6.9"
  }
 },
 "nbformat": 4,
 "nbformat_minor": 4
}
