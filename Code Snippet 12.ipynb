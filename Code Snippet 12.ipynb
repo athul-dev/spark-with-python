{
 "cells": [
  {
   "cell_type": "code",
   "execution_count": 1,
   "metadata": {},
   "outputs": [
    {
     "name": "stdout",
     "output_type": "stream",
     "text": [
      "Welcome Thanos\n",
      "Welcome Master\n",
      "First Car Pajero and Last Car Aventador\n",
      "Manufacturer Name is Porsche and Car Name is Cayenne\n"
     ]
    }
   ],
   "source": [
    "#Code Snippet 12\n",
    "#Simple function with default parameter\n",
    "def myFirstFunction(name=\"Master\"):\n",
    "    '''Doc Strings can be passing using the triple quotes'''\n",
    "    print(\"Welcome \"+name)\n",
    "myFirstFunction(\"Thanos\")\n",
    "myFirstFunction()\n",
    "\n",
    "#Functions with Unknown number of Keywords using * and **\n",
    "def unknownParameters_1(*args): #args in the form of list\n",
    "    print(\"First Car {} and Last Car {}\".format(args[0], args[-1])) #negative indexing to fetch last element of list\n",
    "unknownParameters_1(\"Pajero\",\"Cayenne\",\"Aventador\")\n",
    "\n",
    "def unknownParameters_2(**args): #args in the form of dictionary\n",
    "    print(\"Manufacturer Name is {} and Car Name is {}\".format(args[\"manufacturer\"],args[\"car\"]))\n",
    "unknownParameters_2(manufacturer=\"Porsche\",car=\"Cayenne\",seating_capacity=5)"
   ]
  },
  {
   "cell_type": "code",
   "execution_count": null,
   "metadata": {},
   "outputs": [],
   "source": []
  }
 ],
 "metadata": {
  "kernelspec": {
   "display_name": "Python 3",
   "language": "python",
   "name": "python3"
  },
  "language_info": {
   "codemirror_mode": {
    "name": "ipython",
    "version": 3
   },
   "file_extension": ".py",
   "mimetype": "text/x-python",
   "name": "python",
   "nbconvert_exporter": "python",
   "pygments_lexer": "ipython3",
   "version": "3.6.9"
  }
 },
 "nbformat": 4,
 "nbformat_minor": 4
}
