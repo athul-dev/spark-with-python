{
 "cells": [
  {
   "cell_type": "code",
   "execution_count": 1,
   "metadata": {},
   "outputs": [
    {
     "name": "stdout",
     "output_type": "stream",
     "text": [
      "[104.0, 91.76, 95.53999999999999, 107.24, 86.18]\n",
      "[5, 30, 75, 140]\n",
      "[7, 42, 105, 196]\n"
     ]
    }
   ],
   "source": [
    "#Code Snippet 14\n",
    "#converting Celsius to Fahrenheit\n",
    "Celsius = [40, 33.2, 35.3, 41.8, 30.1]\n",
    "Fahrenheit = map(lambda x: (float(9)/5)*x + 32, Celsius)\n",
    "print(list(Fahrenheit))\n",
    "\n",
    "#mapping multiple lists \n",
    "list_1 = [5,10,15,20]\n",
    "list_2 = [1,3,5,7]\n",
    "list_3 = [2,4,6,8]\n",
    "print(list(map(lambda x,y:x*y,list_1,list_2)))\n",
    "print(list(map(lambda x,y,z:(x+z)*y,list_1,list_2,list_3)))"
   ]
  },
  {
   "cell_type": "code",
   "execution_count": null,
   "metadata": {},
   "outputs": [],
   "source": []
  }
 ],
 "metadata": {
  "kernelspec": {
   "display_name": "Python 3",
   "language": "python",
   "name": "python3"
  },
  "language_info": {
   "codemirror_mode": {
    "name": "ipython",
    "version": 3
   },
   "file_extension": ".py",
   "mimetype": "text/x-python",
   "name": "python",
   "nbconvert_exporter": "python",
   "pygments_lexer": "ipython3",
   "version": "3.6.9"
  }
 },
 "nbformat": 4,
 "nbformat_minor": 4
}
