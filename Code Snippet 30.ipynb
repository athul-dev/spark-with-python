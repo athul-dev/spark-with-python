{
 "cells": [
  {
   "cell_type": "code",
   "execution_count": 1,
   "metadata": {},
   "outputs": [
    {
     "name": "stdout",
     "output_type": "stream",
     "text": [
      "Initial Data\n",
      "+---------+---------+----------+-----+\n",
      "|thickness|cell_size|cell_shape|label|\n",
      "+---------+---------+----------+-----+\n",
      "|        5|        1|         1|    2|\n",
      "|        5|        4|         4|    2|\n",
      "|        3|        1|         1|    2|\n",
      "+---------+---------+----------+-----+\n",
      "only showing top 3 rows\n",
      "\n",
      "Consolidated Data with features and labels\n",
      "+-------------+-----+\n",
      "|     features|label|\n",
      "+-------------+-----+\n",
      "|[5.0,1.0,1.0]|    2|\n",
      "|[5.0,4.0,4.0]|    2|\n",
      "|[3.0,1.0,1.0]|    2|\n",
      "+-------------+-----+\n",
      "only showing top 3 rows\n",
      "\n",
      "Area Under the Curve value is 1.0\n",
      "\n",
      "Accuracy of Decision Tree is 0.9285714285714286\n",
      "\n",
      "Prediction Data\n",
      "+-------------+-----+--------------------+--------------------+----------+\n",
      "|     features|label|       rawPrediction|         probability|prediction|\n",
      "+-------------+-----+--------------------+--------------------+----------+\n",
      "|[1.0,1.0,1.0]|    2|[0.0,0.0,346.0,0....|[0.0,0.0,0.980169...|       2.0|\n",
      "|[1.0,1.0,1.0]|    2|[0.0,0.0,346.0,0....|[0.0,0.0,0.980169...|       2.0|\n",
      "|[1.0,1.0,1.0]|    2|[0.0,0.0,346.0,0....|[0.0,0.0,0.980169...|       2.0|\n",
      "+-------------+-----+--------------------+--------------------+----------+\n",
      "only showing top 3 rows\n",
      "\n",
      "Detemining which feature played a major role in Decision Making\n",
      "\n",
      "(3,[0,1,2],[0.12325274216843915,0.06138080154988512,0.8153664562816757])\n"
     ]
    }
   ],
   "source": [
    "#Code Snippet 30\n",
    "#Step 1 - Importing the data and essential libraries \n",
    "from pyspark.sql import SparkSession\n",
    "spark = SparkSession.builder.appName('SparkTrees').getOrCreate()\n",
    "data = spark.read.csv('breast-cancer.csv',header=True,inferSchema=True)\n",
    "print(\"Initial Data\")\n",
    "data.show(3)\n",
    "#Step 2 - Data pre-processing and conerting data to spark accepted format\n",
    "from pyspark.ml.feature import VectorAssembler\n",
    "assembler = VectorAssembler(inputCols=['thickness','cell_size','cell_shape'],outputCol='features')\n",
    "assembler_data = assembler.transform(data)\n",
    "final_data = assembler_data.select('features','label')\n",
    "print(\"Consolidated Data with features and labels\")\n",
    "final_data.show(3)\n",
    "#Step 3 - Training our Decision model \n",
    "# Splitting the data into 80 and 20 percent\n",
    "train_data,test_data = final_data.randomSplit([0.8,0.2])\n",
    "from pyspark.ml.classification import DecisionTreeClassifier\n",
    "dt = DecisionTreeClassifier(labelCol='label',featuresCol='features')\n",
    "dt_model = dt.fit(train_data)\n",
    "dt_predictions = dt_model.transform(test_data)\n",
    "#Step 4 - Evaluating our Trained Model\n",
    "from pyspark.ml.evaluation import BinaryClassificationEvaluator,MulticlassClassificationEvaluator\n",
    "eval_obj = BinaryClassificationEvaluator(labelCol='label')\n",
    "print(\"Area Under the Curve value is {}\".format(eval_obj.evaluate(dt_predictions)))\n",
    "mul_eval_obj = MulticlassClassificationEvaluator(labelCol='label',metricName='accuracy')\n",
    "print(\"\\nAccuracy of Decision Tree is {}\".format(mul_eval_obj.evaluate(dt_predictions)))\n",
    "print(\"\\nPrediction Data\")\n",
    "dt_predictions.show(3)\n",
    "print(\"Detemining which feature played a major role in Decision Making\\n\")\n",
    "print(dt_model.featureImportances)"
   ]
  },
  {
   "cell_type": "code",
   "execution_count": null,
   "metadata": {},
   "outputs": [],
   "source": []
  }
 ],
 "metadata": {
  "kernelspec": {
   "display_name": "Python 3",
   "language": "python",
   "name": "python3"
  },
  "language_info": {
   "codemirror_mode": {
    "name": "ipython",
    "version": 3
   },
   "file_extension": ".py",
   "mimetype": "text/x-python",
   "name": "python",
   "nbconvert_exporter": "python",
   "pygments_lexer": "ipython3",
   "version": "3.6.9"
  }
 },
 "nbformat": 4,
 "nbformat_minor": 4
}
