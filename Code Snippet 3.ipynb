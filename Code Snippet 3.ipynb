{
 "cells": [
  {
   "cell_type": "code",
   "execution_count": 1,
   "metadata": {},
   "outputs": [
    {
     "name": "stdout",
     "output_type": "stream",
     "text": [
      "Apache Spark is Super\n",
      "Learning is Fun\n"
     ]
    }
   ],
   "source": [
    "#Code Snippet 3\n",
    "text = \"Apache {} is {}\"\n",
    "formatted_text = text.format(\"Spark\",\"Super\")\n",
    "print(formatted_text)\n",
    "new_text = \"{y} is {x}\"\n",
    "new_formatted_text = new_text.format(x=\"Fun\", y=\"Learning\")\n",
    "print(new_formatted_text)"
   ]
  },
  {
   "cell_type": "code",
   "execution_count": null,
   "metadata": {},
   "outputs": [],
   "source": []
  }
 ],
 "metadata": {
  "kernelspec": {
   "display_name": "Python 3",
   "language": "python",
   "name": "python3"
  },
  "language_info": {
   "codemirror_mode": {
    "name": "ipython",
    "version": 3
   },
   "file_extension": ".py",
   "mimetype": "text/x-python",
   "name": "python",
   "nbconvert_exporter": "python",
   "pygments_lexer": "ipython3",
   "version": "3.6.9"
  }
 },
 "nbformat": 4,
 "nbformat_minor": 4
}
