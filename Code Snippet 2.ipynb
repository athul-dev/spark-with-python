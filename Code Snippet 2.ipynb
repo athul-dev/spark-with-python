{
 "cells": [
  {
   "cell_type": "code",
   "execution_count": 1,
   "metadata": {},
   "outputs": [
    {
     "name": "stdout",
     "output_type": "stream",
     "text": [
      "Spark\n",
      "23\n",
      "Apache Spark is Fast and Easy\n",
      "['Apache Spark ', ' Awesome']\n",
      "True\n"
     ]
    }
   ],
   "source": [
    "#Code Snippet 2\n",
    "text = \"Apache Spark is Awesome\"\n",
    "sliced_text = text[7:12]\n",
    "print(sliced_text)\n",
    "length_text=len(text)\n",
    "print(length_text)\n",
    "replaced_text = text.replace(\"Awesome\",\"Fast and Easy\")\n",
    "print(replaced_text)\n",
    "split_text = text.split(\"is\")\n",
    "print(split_text)\n",
    "string_present = \"Spark\" in text\n",
    "print(string_present)"
   ]
  },
  {
   "cell_type": "code",
   "execution_count": null,
   "metadata": {},
   "outputs": [],
   "source": []
  }
 ],
 "metadata": {
  "kernelspec": {
   "display_name": "Python 3",
   "language": "python",
   "name": "python3"
  },
  "language_info": {
   "codemirror_mode": {
    "name": "ipython",
    "version": 3
   },
   "file_extension": ".py",
   "mimetype": "text/x-python",
   "name": "python",
   "nbconvert_exporter": "python",
   "pygments_lexer": "ipython3",
   "version": "3.6.9"
  }
 },
 "nbformat": 4,
 "nbformat_minor": 4
}
