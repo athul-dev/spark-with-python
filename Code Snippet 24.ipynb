{
 "cells": [
  {
   "cell_type": "code",
   "execution_count": 1,
   "metadata": {},
   "outputs": [
    {
     "name": "stdout",
     "output_type": "stream",
     "text": [
      "+-----------+-------------+----+----------+-----+\n",
      "|employee_id|employee_name| age|  location|hours|\n",
      "+-----------+-------------+----+----------+-----+\n",
      "|       G001|       Pichai|  47|California|   14|\n",
      "|       M002|         Bill|  64|Washington| null|\n",
      "|       A003|         Jeff|  56|      null| null|\n",
      "|       A004|         null|null|      null|   12|\n",
      "+-----------+-------------+----+----------+-----+\n",
      "\n",
      "Data after dropping the rows having null values\n",
      "+-----------+-------------+---+----------+-----+\n",
      "|employee_id|employee_name|age|  location|hours|\n",
      "+-----------+-------------+---+----------+-----+\n",
      "|       G001|       Pichai| 47|California|   14|\n",
      "+-----------+-------------+---+----------+-----+\n",
      "\n",
      "Data after dropping the rows having atleast 4 non-null values\n",
      "+-----------+-------------+---+----------+-----+\n",
      "|employee_id|employee_name|age|  location|hours|\n",
      "+-----------+-------------+---+----------+-----+\n",
      "|       G001|       Pichai| 47|California|   14|\n",
      "|       M002|         Bill| 64|Washington| null|\n",
      "+-----------+-------------+---+----------+-----+\n",
      "\n",
      "Data after dropping the rows having null values in hours column\n",
      "+-----------+-------------+----+----------+-----+\n",
      "|employee_id|employee_name| age|  location|hours|\n",
      "+-----------+-------------+----+----------+-----+\n",
      "|       G001|       Pichai|  47|California|   14|\n",
      "|       A004|         null|null|      null|   12|\n",
      "+-----------+-------------+----+----------+-----+\n",
      "\n",
      "Data after filling the rows having null values in hours column\n",
      "+-----------+-------------+----+----------+-----+\n",
      "|employee_id|employee_name| age|  location|hours|\n",
      "+-----------+-------------+----+----------+-----+\n",
      "|       G001|       Pichai|  47|California|   14|\n",
      "|       M002|         Bill|  64|Washington|   12|\n",
      "|       A003|         Jeff|  56|      null|   12|\n",
      "|       A004|         null|null|      null|   12|\n",
      "+-----------+-------------+----+----------+-----+\n",
      "\n",
      "Data after filling the rows having null values in hours column with calculated mean value\n",
      "+-----------+-------------+----+----------+-----+\n",
      "|employee_id|employee_name| age|  location|hours|\n",
      "+-----------+-------------+----+----------+-----+\n",
      "|       G001|       Pichai|  47|California|   14|\n",
      "|       M002|         Bill|  64|Washington|   13|\n",
      "|       A003|         Jeff|  56|      null|   13|\n",
      "|       A004|         null|null|      null|   12|\n",
      "+-----------+-------------+----+----------+-----+\n",
      "\n",
      "Data after replacing a specific rows value in employee_name column\n",
      "+-----------+-------------+----+----------+-----+\n",
      "|employee_id|employee_name| age|  location|hours|\n",
      "+-----------+-------------+----+----------+-----+\n",
      "|       G001|       Sundar|  47|California|   14|\n",
      "|       M002|         Bill|  64|Washington| null|\n",
      "|       A003|         Jeff|  56|      null| null|\n",
      "|       A004|         null|null|      null|   12|\n",
      "+-----------+-------------+----+----------+-----+\n",
      "\n"
     ]
    }
   ],
   "source": [
    "#Code Snippet 24\n",
    "from pyspark.sql import SparkSession\n",
    "spark = SparkSession.builder.appName(\"SparkMisingData\").getOrCreate()\n",
    "df = spark.read.csv(\"employee_data.csv\",header=True,inferSchema=True)\n",
    "df.show()\n",
    "print(\"Data after dropping the rows having null values\")\n",
    "df.na.drop().show()\n",
    "print(\"Data after dropping the rows having atleast 4 non-null values\")\n",
    "df.na.drop(thresh=4).show()\n",
    "print(\"Data after dropping the rows having null values in hours column\")\n",
    "df.na.drop(subset=\"hours\").show()\n",
    "print(\"Data after filling the rows having null values in hours column\")\n",
    "df.na.fill(12,subset=\"hours\").show()\n",
    "from pyspark.sql.functions import mean #importing the mean function\n",
    "mean_value = df.select(mean(\"hours\")).collect()[0][0] #calculating mean value \n",
    "print(\"Data after filling the rows having null values in hours column with calculated mean value\")\n",
    "df.na.fill(mean_value,subset=\"hours\").show()\n",
    "print(\"Data after replacing a specific rows value in employee_name column\")\n",
    "df.na.replace(\"Pichai\",\"Sundar\",subset=\"employee_name\").show()"
   ]
  },
  {
   "cell_type": "code",
   "execution_count": null,
   "metadata": {},
   "outputs": [],
   "source": []
  }
 ],
 "metadata": {
  "kernelspec": {
   "display_name": "Python 3",
   "language": "python",
   "name": "python3"
  },
  "language_info": {
   "codemirror_mode": {
    "name": "ipython",
    "version": 3
   },
   "file_extension": ".py",
   "mimetype": "text/x-python",
   "name": "python",
   "nbconvert_exporter": "python",
   "pygments_lexer": "ipython3",
   "version": "3.6.9"
  }
 },
 "nbformat": 4,
 "nbformat_minor": 4
}
