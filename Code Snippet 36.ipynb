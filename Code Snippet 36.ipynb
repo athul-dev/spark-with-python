{
 "cells": [
  {
   "cell_type": "code",
   "execution_count": 1,
   "metadata": {},
   "outputs": [
    {
     "name": "stdout",
     "output_type": "stream",
     "text": [
      "Initial Data\n",
      "+---------------------------+\n",
      "|text_content               |\n",
      "+---------------------------+\n",
      "|Spark is the best          |\n",
      "|Oops an error              |\n",
      "|The everest is just awesome|\n",
      "+---------------------------+\n",
      "\n",
      "Tokenizer Output - Splitting text on Whitespaces\n",
      "+---------------------------+---------------------------------+\n",
      "|text_content               |tokens_words                     |\n",
      "+---------------------------+---------------------------------+\n",
      "|Spark is the best          |[spark, is, the, best]           |\n",
      "|Oops an error              |[oops, an, error]                |\n",
      "|The everest is just awesome|[the, everest, is, just, awesome]|\n",
      "+---------------------------+---------------------------------+\n",
      "\n",
      "Data after Stop Words Removal\n",
      "+---------------------------------+------------------+\n",
      "|tokens_words                     |stopWordsRemoved  |\n",
      "+---------------------------------+------------------+\n",
      "|[spark, is, the, best]           |[spark, best]     |\n",
      "|[oops, an, error]                |[oops, error]     |\n",
      "|[the, everest, is, just, awesome]|[everest, awesome]|\n",
      "+---------------------------------+------------------+\n",
      "\n"
     ]
    }
   ],
   "source": [
    "#Code Snippet 36\n",
    "from pyspark.sql import SparkSession\n",
    "spark = SparkSession.builder.appName('StopWordsRemover').getOrCreate()\n",
    "from pyspark.ml.feature import StopWordsRemover, Tokenizer\n",
    "data = spark.read.csv('stopwords.csv',header=True,inferSchema=True)\n",
    "print(\"Initial Data\")\n",
    "data.show(truncate=False)\n",
    "#Applying Tokenizer prior to StopWordsRemover as StopWords takes tokens as its input\n",
    "simple_tokenizer = Tokenizer(inputCol='text_content',outputCol='tokens_words')\n",
    "simple_tokens = simple_tokenizer.transform(data)\n",
    "print(\"Tokenizer Output - Splitting text on Whitespaces\")\n",
    "simple_tokens.show(truncate=False)\n",
    "#Applying StopWordsRemover class \n",
    "stopWords = StopWordsRemover(inputCol='tokens_words',outputCol='stopWordsRemoved')\n",
    "stopWords_tokens = stopWords.transform(simple_tokens)\n",
    "print(\"Data after Stop Words Removal\")\n",
    "stopWords_tokens.select('tokens_words','stopWordsRemoved').show(truncate=False)"
   ]
  },
  {
   "cell_type": "code",
   "execution_count": null,
   "metadata": {},
   "outputs": [],
   "source": []
  }
 ],
 "metadata": {
  "kernelspec": {
   "display_name": "Python 3",
   "language": "python",
   "name": "python3"
  },
  "language_info": {
   "codemirror_mode": {
    "name": "ipython",
    "version": 3
   },
   "file_extension": ".py",
   "mimetype": "text/x-python",
   "name": "python",
   "nbconvert_exporter": "python",
   "pygments_lexer": "ipython3",
   "version": "3.6.9"
  }
 },
 "nbformat": 4,
 "nbformat_minor": 4
}
