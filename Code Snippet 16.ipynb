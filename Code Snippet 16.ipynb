{
 "cells": [
  {
   "cell_type": "code",
   "execution_count": 1,
   "metadata": {},
   "outputs": [
    {
     "name": "stdout",
     "output_type": "stream",
     "text": [
      "Sum of numbers 1 to 50 is 1225\n",
      "Multiplied list result is 50\n",
      "Largest element of list is 210\n"
     ]
    }
   ],
   "source": [
    "#Python Snippet 16\n",
    "from functools import reduce #importing the reduce library\n",
    "counting=reduce(lambda x, y: x+y, range(1,50))\n",
    "print(\"Sum of numbers 1 to 50 is {}\".format(counting))\n",
    "multiplying=reduce(lambda x,y: x*y, [1,5,10])\n",
    "print(\"Multiplied list result is {}\".format(multiplying))\n",
    "largest_in_list = lambda a,b: a if (a > b) else b\n",
    "largest=reduce(largest_in_list, [100,101,155,122,210])\n",
    "print(\"Largest element of list is {}\".format(largest))"
   ]
  },
  {
   "cell_type": "code",
   "execution_count": null,
   "metadata": {},
   "outputs": [],
   "source": []
  }
 ],
 "metadata": {
  "kernelspec": {
   "display_name": "Python 3",
   "language": "python",
   "name": "python3"
  },
  "language_info": {
   "codemirror_mode": {
    "name": "ipython",
    "version": 3
   },
   "file_extension": ".py",
   "mimetype": "text/x-python",
   "name": "python",
   "nbconvert_exporter": "python",
   "pygments_lexer": "ipython3",
   "version": "3.6.9"
  }
 },
 "nbformat": 4,
 "nbformat_minor": 4
}
