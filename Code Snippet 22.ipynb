{
 "cells": [
  {
   "cell_type": "code",
   "execution_count": 1,
   "metadata": {},
   "outputs": [
    {
     "name": "stdout",
     "output_type": "stream",
     "text": [
      "+-------------+------------+-------------+\n",
      "| company_name|product_name|revenue_sales|\n",
      "+-------------+------------+-------------+\n",
      "|         Audi|          A4|          450|\n",
      "|Mercedes Benz|     G Class|         1200|\n",
      "|          BMW|          X1|          425|\n",
      "|     Mahindra|     XUV 500|          850|\n",
      "+-------------+------------+-------------+\n",
      "only showing top 4 rows\n",
      "\n",
      "Total revenue_sales per company\n",
      "+-------------+------------------+\n",
      "| company_name|sum(revenue_sales)|\n",
      "+-------------+------------------+\n",
      "|          Kia|              1140|\n",
      "|         Audi|              2275|\n",
      "|     Mahindra|              1640|\n",
      "|          BMW|              1975|\n",
      "|Mercedes Benz|              2570|\n",
      "+-------------+------------------+\n",
      "\n",
      "Total revenue_sales for the entire data\n",
      "+------------------+\n",
      "|sum(revenue_sales)|\n",
      "+------------------+\n",
      "|              9600|\n",
      "+------------------+\n",
      "\n",
      "Max revenue_sales value per company\n",
      "+-------------+------------------+\n",
      "| company_name|max(revenue_sales)|\n",
      "+-------------+------------------+\n",
      "|          Kia|               690|\n",
      "|         Audi|               725|\n",
      "|     Mahindra|               850|\n",
      "|          BMW|               850|\n",
      "|Mercedes Benz|              1200|\n",
      "+-------------+------------------+\n",
      "\n",
      "Ordering the data based on the revenue_sales in ascending order\n",
      "+-------------+------------+-------------+\n",
      "| company_name|product_name|revenue_sales|\n",
      "+-------------+------------+-------------+\n",
      "|          BMW|          X1|          425|\n",
      "|         Audi|          A4|          450|\n",
      "|          Kia|    Carnival|          450|\n",
      "|Mercedes Benz|     C Class|          470|\n",
      "|         Audi|          Q7|          500|\n",
      "+-------------+------------+-------------+\n",
      "only showing top 5 rows\n",
      "\n",
      "Ordering the data based on the revenue_sales in descending order\n",
      "+-------------+------------+-------------+\n",
      "| company_name|product_name|revenue_sales|\n",
      "+-------------+------------+-------------+\n",
      "|Mercedes Benz|     G Class|         1200|\n",
      "|Mercedes Benz|         GLS|          900|\n",
      "|     Mahindra|     XUV 500|          850|\n",
      "|          BMW|          X5|          850|\n",
      "|     Mahindra|     XUV 300|          790|\n",
      "+-------------+------------+-------------+\n",
      "only showing top 5 rows\n",
      "\n"
     ]
    }
   ],
   "source": [
    "#Code Snippet 22\n",
    "from pyspark.sql import SparkSession\n",
    "spark = SparkSession.builder.appName('SparkGroupBy&Agg').getOrCreate()\n",
    "df = spark.read.csv(\"company_product_revenue.csv\",header=True,inferSchema=True)\n",
    "df.show(4)\n",
    "print(\"Total revenue_sales per company\")\n",
    "df.groupBy(\"company_name\").sum().show()\n",
    "print(\"Total revenue_sales for the entire data\")\n",
    "df.agg({\"revenue_sales\":\"sum\"}).show()\n",
    "print(\"Max revenue_sales value per company\")\n",
    "df.groupBy(\"company_name\").agg({\"revenue_sales\":\"max\"}).show()\n",
    "print(\"Ordering the data based on the revenue_sales in ascending order\")\n",
    "df.orderBy(\"revenue_sales\").show(5)\n",
    "print(\"Ordering the data based on the revenue_sales in descending order\")\n",
    "df.orderBy(df[\"revenue_sales\"].desc()).show(5)"
   ]
  },
  {
   "cell_type": "code",
   "execution_count": null,
   "metadata": {},
   "outputs": [],
   "source": []
  }
 ],
 "metadata": {
  "kernelspec": {
   "display_name": "Python 3",
   "language": "python",
   "name": "python3"
  },
  "language_info": {
   "codemirror_mode": {
    "name": "ipython",
    "version": 3
   },
   "file_extension": ".py",
   "mimetype": "text/x-python",
   "name": "python",
   "nbconvert_exporter": "python",
   "pygments_lexer": "ipython3",
   "version": "3.6.9"
  }
 },
 "nbformat": 4,
 "nbformat_minor": 4
}
