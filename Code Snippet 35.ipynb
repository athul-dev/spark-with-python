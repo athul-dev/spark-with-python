{
 "cells": [
  {
   "cell_type": "code",
   "execution_count": 1,
   "metadata": {},
   "outputs": [
    {
     "name": "stdout",
     "output_type": "stream",
     "text": [
      "Initial Data\n",
      "+---------------------------+\n",
      "|text_content               |\n",
      "+---------------------------+\n",
      "|Apache Spark is Awesome    |\n",
      "|Natural-Language-Processing|\n",
      "+---------------------------+\n",
      "\n",
      "Tokenizer Output - Splitting text on Whitespaces\n",
      "+---------------------------+-----------------------------+\n",
      "|text_content               |tokens_words                 |\n",
      "+---------------------------+-----------------------------+\n",
      "|Apache Spark is Awesome    |[apache, spark, is, awesome] |\n",
      "|Natural-Language-Processing|[natural-language-processing]|\n",
      "+---------------------------+-----------------------------+\n",
      "\n",
      "RegexTokenizer Output - Splitting text on special sequence \\W\n",
      "+---------------------------+-------------------------------+\n",
      "|text_content               |tokens_words                   |\n",
      "+---------------------------+-------------------------------+\n",
      "|Apache Spark is Awesome    |[apache, spark, is, awesome]   |\n",
      "|Natural-Language-Processing|[natural, language, processing]|\n",
      "+---------------------------+-------------------------------+\n",
      "\n"
     ]
    }
   ],
   "source": [
    "#Code Snippet 35\n",
    "from pyspark.sql import SparkSession\n",
    "spark = SparkSession.builder.appName('Tokenizer').getOrCreate()\n",
    "from pyspark.ml.feature import Tokenizer,RegexTokenizer\n",
    "data = spark.read.csv('to_tokenize.csv',header=True,inferSchema=True)\n",
    "print(\"Initial Data\")\n",
    "data.show(truncate=False)\n",
    "#Applying Tokenizer class which splits text on whitespaces\n",
    "simple_tokenizer = Tokenizer(inputCol='text_content',outputCol='tokens_words')\n",
    "simple_tokens = simple_tokenizer.transform(data)\n",
    "print(\"Tokenizer Output - Splitting text on Whitespaces\")\n",
    "simple_tokens.show(truncate=False)\n",
    "#Applying RegexTokenizer class which splits text on user defined patterns\n",
    "# Special sequence \\W splits on non-alphanumeric characters (in our case it splits on '-')\n",
    "regex_tokenizer = RegexTokenizer(inputCol='text_content',outputCol='tokens_words',pattern='\\\\W')\n",
    "regex_tokens = regex_tokenizer.transform(data)\n",
    "print(\"RegexTokenizer Output - Splitting text on special sequence \\W\")\n",
    "regex_tokens.show(truncate=False)"
   ]
  },
  {
   "cell_type": "code",
   "execution_count": null,
   "metadata": {},
   "outputs": [],
   "source": []
  }
 ],
 "metadata": {
  "kernelspec": {
   "display_name": "Python 3",
   "language": "python",
   "name": "python3"
  },
  "language_info": {
   "codemirror_mode": {
    "name": "ipython",
    "version": 3
   },
   "file_extension": ".py",
   "mimetype": "text/x-python",
   "name": "python",
   "nbconvert_exporter": "python",
   "pygments_lexer": "ipython3",
   "version": "3.6.9"
  }
 },
 "nbformat": 4,
 "nbformat_minor": 4
}
