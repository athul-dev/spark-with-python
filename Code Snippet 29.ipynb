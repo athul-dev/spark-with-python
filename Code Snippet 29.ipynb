{
 "cells": [
  {
   "cell_type": "code",
   "execution_count": 1,
   "metadata": {},
   "outputs": [
    {
     "name": "stdout",
     "output_type": "stream",
     "text": [
      "Initial Data\n",
      "+------+---+----+----------+---------+\n",
      "|  name|age| sex|tumor_size|cancerous|\n",
      "+------+---+----+----------+---------+\n",
      "|Roland| 58|Male|       7.0|        1|\n",
      "| Adolf| 65|Male|       9.0|        1|\n",
      "| Klaus| 50|Male|       3.0|        0|\n",
      "+------+---+----+----------+---------+\n",
      "only showing top 3 rows\n",
      "\n",
      "Prediction Data\n",
      "+---------+----------+\n",
      "|cancerous|prediction|\n",
      "+---------+----------+\n",
      "|        1|       1.0|\n",
      "|        0|       0.0|\n",
      "|        0|       1.0|\n",
      "+---------+----------+\n",
      "only showing top 3 rows\n",
      "\n",
      "Area Under the Curve value is 0.6666666666666667\n"
     ]
    }
   ],
   "source": [
    "#Code Snippet 29\n",
    "from pyspark.sql import SparkSession\n",
    "spark = SparkSession.builder.appName('SparkLogReg').getOrCreate()\n",
    "data = spark.read.csv('brain_tumor_dataset.csv',header=True,inferSchema=True)\n",
    "print(\"Initial Data\")\n",
    "data.show(3)\n",
    "from pyspark.ml.feature import VectorAssembler,VectorIndexer,StringIndexer,OneHotEncoder\n",
    "#Stage 1\n",
    "sex_string_indexer = StringIndexer(inputCol='sex',outputCol='sexIndexer')\n",
    "#Stage 2\n",
    "sex_encoder = OneHotEncoder(inputCol='sexIndexer',outputCol='sexVector')\n",
    "#Stage 3\n",
    "assembler = VectorAssembler(inputCols=['age','sexVector','tumor_size'],outputCol='features')\n",
    "from pyspark.ml.classification import LogisticRegression\n",
    "from pyspark.ml import Pipeline\n",
    "#Stage 4\n",
    "logreg = LogisticRegression(featuresCol='features',labelCol='cancerous')\n",
    "#passing the 4 stages directly into a pipeline object\n",
    "pipeline_object = Pipeline(stages=[sex_string_indexer,sex_encoder,assembler,logreg])\n",
    "train_data , test_data = data.randomSplit([0.6,0.4])\n",
    "logreg_model = pipeline_object.fit(train_data)\n",
    "model_results = logreg_model.transform(test_data)\n",
    "print(\"Prediction Data\")\n",
    "model_results.select('cancerous','prediction').show(3)\n",
    "from pyspark.ml.evaluation import BinaryClassificationEvaluator\n",
    "evaluation_object = BinaryClassificationEvaluator(rawPredictionCol='prediction',labelCol='cancerous')\n",
    "AUC = evaluation_object.evaluate(model_results)\n",
    "print(\"Area Under the Curve value is {}\".format(AUC))"
   ]
  },
  {
   "cell_type": "code",
   "execution_count": null,
   "metadata": {},
   "outputs": [],
   "source": []
  }
 ],
 "metadata": {
  "kernelspec": {
   "display_name": "Python 3",
   "language": "python",
   "name": "python3"
  },
  "language_info": {
   "codemirror_mode": {
    "name": "ipython",
    "version": 3
   },
   "file_extension": ".py",
   "mimetype": "text/x-python",
   "name": "python",
   "nbconvert_exporter": "python",
   "pygments_lexer": "ipython3",
   "version": "3.6.9"
  }
 },
 "nbformat": 4,
 "nbformat_minor": 4
}
